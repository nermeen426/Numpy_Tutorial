{
 "cells": [
  {
   "cell_type": "code",
   "execution_count": 1,
   "id": "a6329c10",
   "metadata": {},
   "outputs": [],
   "source": [
    "import numpy as np"
   ]
  },
  {
   "cell_type": "markdown",
   "id": "d610db28",
   "metadata": {},
   "source": [
    "# Create a NumPy ndarray Object"
   ]
  },
  {
   "cell_type": "code",
   "execution_count": 3,
   "id": "79b3b5a2",
   "metadata": {},
   "outputs": [
    {
     "name": "stdout",
     "output_type": "stream",
     "text": [
      "[1 2 3 4 5]\n"
     ]
    }
   ],
   "source": [
    "arr = np.array([1, 2, 3, 4, 5])\n",
    "print(arr)"
   ]
  },
  {
   "cell_type": "markdown",
   "id": "eef40c3d",
   "metadata": {},
   "source": [
    "type(): This built-in Python function tells us the type of the object passed to it"
   ]
  },
  {
   "cell_type": "code",
   "execution_count": 4,
   "id": "3d1e32b5",
   "metadata": {},
   "outputs": [
    {
     "name": "stdout",
     "output_type": "stream",
     "text": [
      "<class 'numpy.ndarray'>\n"
     ]
    }
   ],
   "source": [
    "print(type(arr))"
   ]
  },
  {
   "cell_type": "markdown",
   "id": "76019f1c",
   "metadata": {},
   "source": [
    "Use a tuple to create a NumPy array:"
   ]
  },
  {
   "cell_type": "code",
   "execution_count": 6,
   "id": "c2e87f01",
   "metadata": {},
   "outputs": [
    {
     "name": "stdout",
     "output_type": "stream",
     "text": [
      "[1 2 3 4 5]\n"
     ]
    }
   ],
   "source": [
    "arr2 = np.array((1, 2, 3, 4, 5))\n",
    "print(arr)"
   ]
  },
  {
   "cell_type": "markdown",
   "id": "fb114fb4",
   "metadata": {},
   "source": [
    "# Dimensions in Arrays"
   ]
  },
  {
   "cell_type": "markdown",
   "id": "3729d27e",
   "metadata": {},
   "source": [
    "0-D Arrays are the elements in an array. Each value in an array is a 0-D array."
   ]
  },
  {
   "cell_type": "code",
   "execution_count": 7,
   "id": "37710404",
   "metadata": {},
   "outputs": [
    {
     "name": "stdout",
     "output_type": "stream",
     "text": [
      "42\n"
     ]
    }
   ],
   "source": [
    "arr3 = np.array(42)\n",
    "print(arr3)"
   ]
  },
  {
   "cell_type": "markdown",
   "id": "87e785b0",
   "metadata": {},
   "source": [
    "1-D Arrays: An array that has 0-D arrays as its elements is called uni-dimensional or 1-D array.\n",
    "\n",
    "These are the most common and basic arrays."
   ]
  },
  {
   "cell_type": "code",
   "execution_count": 10,
   "id": "5f080ec0",
   "metadata": {},
   "outputs": [
    {
     "name": "stdout",
     "output_type": "stream",
     "text": [
      "[1 2 3 4 5]\n"
     ]
    }
   ],
   "source": [
    "arr4 = np.array([1, 2, 3, 4, 5])\n",
    "print(arr4)"
   ]
  },
  {
   "cell_type": "markdown",
   "id": "9b57fc7f",
   "metadata": {},
   "source": [
    "2-D Arrays: An array that has 1-D arrays as its elements is called a 2-D array."
   ]
  },
  {
   "cell_type": "code",
   "execution_count": 12,
   "id": "8fa0b29a",
   "metadata": {},
   "outputs": [
    {
     "name": "stdout",
     "output_type": "stream",
     "text": [
      "[[1 2 3]\n",
      " [4 5 6]]\n"
     ]
    }
   ],
   "source": [
    "arr5 = np.array([[1, 2, 3], [4, 5, 6]])\n",
    "print(arr5)"
   ]
  },
  {
   "cell_type": "markdown",
   "id": "9a070355",
   "metadata": {},
   "source": [
    "3-D arrays: An array that has 2-D arrays (matrices) as its elements is called 3-D array."
   ]
  },
  {
   "cell_type": "code",
   "execution_count": 14,
   "id": "bb2d8252",
   "metadata": {},
   "outputs": [
    {
     "name": "stdout",
     "output_type": "stream",
     "text": [
      "[[[1 2 3]\n",
      "  [4 5 6]]\n",
      "\n",
      " [[1 2 3]\n",
      "  [4 5 6]]]\n"
     ]
    }
   ],
   "source": [
    "arr6 = np.array([[[1, 2, 3], [4, 5, 6]], [[1, 2, 3], [4, 5, 6]]])\n",
    "print(arr6)"
   ]
  },
  {
   "cell_type": "markdown",
   "id": "ac582859",
   "metadata": {},
   "source": [
    "# Check Number of Dimensions?\n",
    "NumPy Arrays provides the ndim attribute that returns an integer that tells us how many dimensions the array have."
   ]
  },
  {
   "cell_type": "code",
   "execution_count": 15,
   "id": "f745e41b",
   "metadata": {},
   "outputs": [
    {
     "name": "stdout",
     "output_type": "stream",
     "text": [
      "0\n",
      "1\n",
      "2\n",
      "3\n"
     ]
    }
   ],
   "source": [
    "print(arr3.ndim)\n",
    "print(arr4.ndim)\n",
    "print(arr5.ndim)\n",
    "print(arr6.ndim)"
   ]
  },
  {
   "cell_type": "markdown",
   "id": "247ef0ff",
   "metadata": {},
   "source": [
    "# NumPy Array Indexing"
   ]
  },
  {
   "cell_type": "markdown",
   "id": "3cadabed",
   "metadata": {},
   "source": [
    "Access Array Elements\n",
    "\n",
    "The indexes in NumPy arrays start with 0, meaning that the first element has index 0, and the second has index 1 etc."
   ]
  },
  {
   "cell_type": "code",
   "execution_count": 17,
   "id": "245452f8",
   "metadata": {},
   "outputs": [
    {
     "name": "stdout",
     "output_type": "stream",
     "text": [
      "1\n"
     ]
    }
   ],
   "source": [
    "# Get the first element from the following array\n",
    "arr7 = np.array([1, 2, 3, 4])\n",
    "print(arr7[0])"
   ]
  },
  {
   "cell_type": "code",
   "execution_count": 18,
   "id": "e79b94ca",
   "metadata": {},
   "outputs": [
    {
     "name": "stdout",
     "output_type": "stream",
     "text": [
      "2\n"
     ]
    }
   ],
   "source": [
    "# Get the second element from the previous array\n",
    "print(arr7[1])"
   ]
  },
  {
   "cell_type": "code",
   "execution_count": 19,
   "id": "8ae31f38",
   "metadata": {},
   "outputs": [
    {
     "name": "stdout",
     "output_type": "stream",
     "text": [
      "7\n"
     ]
    }
   ],
   "source": [
    "# Get third and fourth elements from the previous array and add them\n",
    "print(arr7[2] + arr7[3])"
   ]
  },
  {
   "cell_type": "markdown",
   "id": "3c43e7a7",
   "metadata": {},
   "source": [
    "Access 2-D Arrays\n",
    "\n",
    "To access elements from 2-D arrays we can use comma separated integers representing the dimension and the index of the element.\n",
    "\n",
    "Think of 2-D arrays like a table with rows and columns, where the dimension represents the row and the index represents the column."
   ]
  },
  {
   "cell_type": "code",
   "execution_count": 20,
   "id": "74537f4c",
   "metadata": {},
   "outputs": [
    {
     "name": "stdout",
     "output_type": "stream",
     "text": [
      "2nd element on 1st row:  2\n"
     ]
    }
   ],
   "source": [
    "arr8 = np.array([[1, 2, 3, 4 , 5], [6, 7, 8, 9, 10]])\n",
    "print(\"2nd element on 1st row: \", arr8[0, 1])"
   ]
  },
  {
   "cell_type": "code",
   "execution_count": 22,
   "id": "b0a62e3b",
   "metadata": {},
   "outputs": [
    {
     "name": "stdout",
     "output_type": "stream",
     "text": [
      "5th element on 2nd row:  10\n"
     ]
    }
   ],
   "source": [
    "print('5th element on 2nd row: ', arr8[1, 4])"
   ]
  },
  {
   "cell_type": "markdown",
   "id": "1213ee7c",
   "metadata": {},
   "source": [
    "Access 3-D Arrays\n",
    "\n",
    "To access elements from 3-D arrays we can use comma separated integers representing the dimensions and the index of the element."
   ]
  },
  {
   "cell_type": "code",
   "execution_count": 24,
   "id": "59b3afc5",
   "metadata": {},
   "outputs": [
    {
     "name": "stdout",
     "output_type": "stream",
     "text": [
      "6\n"
     ]
    }
   ],
   "source": [
    "arr9 = np.array([[[1, 2, 3], [4, 5, 6]], [[7, 8, 9], [10, 11, 12]]])\n",
    "print(arr9[0, 1, 2])"
   ]
  },
  {
   "cell_type": "markdown",
   "id": "87e31101",
   "metadata": {},
   "source": [
    "Negative Indexing\n",
    "\n",
    "Use negative indexing to access an array from the end."
   ]
  },
  {
   "cell_type": "code",
   "execution_count": 26,
   "id": "9d9cdd3b",
   "metadata": {},
   "outputs": [
    {
     "name": "stdout",
     "output_type": "stream",
     "text": [
      "Last element from 2nd dim:  10\n"
     ]
    }
   ],
   "source": [
    "# Print the last element from the 2nd dim\n",
    "arr10 = np.array([[1,2,3,4,5], [6,7,8,9,10]])\n",
    "print('Last element from 2nd dim: ', arr10[1, -1])"
   ]
  },
  {
   "cell_type": "markdown",
   "id": "4f7210d4",
   "metadata": {},
   "source": [
    "# NumPy Array Slicing"
   ]
  },
  {
   "cell_type": "markdown",
   "id": "b24e07b7",
   "metadata": {},
   "source": [
    "Slicing arrays\n",
    "\n",
    "Slicing in python means taking elements from one given index to another given index.\n",
    "\n",
    "We pass slice instead of index like this: [start:end].\n",
    "\n",
    "We can also define the step, like this: [start:end:step]."
   ]
  },
  {
   "cell_type": "code",
   "execution_count": 28,
   "id": "295fc6e0",
   "metadata": {},
   "outputs": [
    {
     "name": "stdout",
     "output_type": "stream",
     "text": [
      "[2 3 4 5]\n"
     ]
    }
   ],
   "source": [
    "# Slice elements from index 1 to index 5 from the following array:\n",
    "arr11 = np.array([1, 2, 3, 4 ,5 , 6, 7])\n",
    "print(arr11[1:5])"
   ]
  },
  {
   "cell_type": "code",
   "execution_count": 30,
   "id": "a6f7048f",
   "metadata": {},
   "outputs": [
    {
     "name": "stdout",
     "output_type": "stream",
     "text": [
      "[5 6 7]\n"
     ]
    }
   ],
   "source": [
    "# Slice elements from index 4 to the end of the array:\n",
    "print(arr11[4:])"
   ]
  },
  {
   "cell_type": "code",
   "execution_count": 31,
   "id": "2b7c4b6c",
   "metadata": {},
   "outputs": [
    {
     "name": "stdout",
     "output_type": "stream",
     "text": [
      "[1 2 3 4]\n"
     ]
    }
   ],
   "source": [
    "# Slice elements from the beginning to index 4 (not included):\n",
    "print(arr11[:4])"
   ]
  },
  {
   "cell_type": "markdown",
   "id": "fbe1c118",
   "metadata": {},
   "source": [
    "Negative Slicing: Use the minus operator to refer to an index from the end:"
   ]
  },
  {
   "cell_type": "code",
   "execution_count": 32,
   "id": "773226aa",
   "metadata": {},
   "outputs": [
    {
     "name": "stdout",
     "output_type": "stream",
     "text": [
      "[5 6]\n"
     ]
    }
   ],
   "source": [
    "print(arr11[-3:-1])"
   ]
  },
  {
   "cell_type": "code",
   "execution_count": 33,
   "id": "2db3bb27",
   "metadata": {},
   "outputs": [
    {
     "name": "stdout",
     "output_type": "stream",
     "text": [
      "[2 4]\n"
     ]
    }
   ],
   "source": [
    "print(arr11[1:5:2])"
   ]
  },
  {
   "cell_type": "code",
   "execution_count": 35,
   "id": "e2fa424b",
   "metadata": {},
   "outputs": [
    {
     "name": "stdout",
     "output_type": "stream",
     "text": [
      "[1 3 5 7]\n"
     ]
    }
   ],
   "source": [
    "print(arr11[::2])"
   ]
  },
  {
   "cell_type": "markdown",
   "id": "0916c50b",
   "metadata": {},
   "source": [
    "Slicing 2-D Arrays"
   ]
  },
  {
   "cell_type": "code",
   "execution_count": 36,
   "id": "33de0d8f",
   "metadata": {},
   "outputs": [
    {
     "name": "stdout",
     "output_type": "stream",
     "text": [
      "[7 8 9]\n"
     ]
    }
   ],
   "source": [
    "#From the second element, slice elements from index 1 to index 4 (not included):\n",
    "arr12 = np.array([[1, 2, 3, 4, 5], [6, 7, 8, 9, 10]])\n",
    "print(arr12[1, 1:4])"
   ]
  },
  {
   "cell_type": "code",
   "execution_count": 37,
   "id": "c03d1a86",
   "metadata": {},
   "outputs": [
    {
     "name": "stdout",
     "output_type": "stream",
     "text": [
      "[3 8]\n"
     ]
    }
   ],
   "source": [
    "# From both elements, return index 2:\n",
    "print(arr12[0:2, 2])"
   ]
  },
  {
   "cell_type": "code",
   "execution_count": 38,
   "id": "91d8bdab",
   "metadata": {},
   "outputs": [
    {
     "name": "stdout",
     "output_type": "stream",
     "text": [
      "[[2 3 4]\n",
      " [7 8 9]]\n"
     ]
    }
   ],
   "source": [
    "# From both elements, slice index 1 to index 4 (not included):\n",
    "print(arr12[0:2, 1:4])"
   ]
  },
  {
   "cell_type": "markdown",
   "id": "1bd7b473",
   "metadata": {},
   "source": [
    "# NumPy Data Types\n",
    "The NumPy array object has a property called dtype that returns the data type of the array:"
   ]
  },
  {
   "cell_type": "code",
   "execution_count": 40,
   "id": "ee123c21",
   "metadata": {},
   "outputs": [
    {
     "name": "stdout",
     "output_type": "stream",
     "text": [
      "int32\n"
     ]
    }
   ],
   "source": [
    "a = np.array([1, 2, 3, 4])\n",
    "\n",
    "print(a.dtype)"
   ]
  },
  {
   "cell_type": "code",
   "execution_count": 41,
   "id": "a8a3da87",
   "metadata": {},
   "outputs": [
    {
     "name": "stdout",
     "output_type": "stream",
     "text": [
      "<U8\n"
     ]
    }
   ],
   "source": [
    "b = np.array(['Ahmed', 'Mona', 'Mohammed'])\n",
    "\n",
    "print(b.dtype)"
   ]
  },
  {
   "cell_type": "markdown",
   "id": "6f69474a",
   "metadata": {},
   "source": [
    "# Creating Arrays With a Defined Data Type"
   ]
  },
  {
   "cell_type": "code",
   "execution_count": 48,
   "id": "17c0120e",
   "metadata": {},
   "outputs": [
    {
     "name": "stdout",
     "output_type": "stream",
     "text": [
      "[b'1' b'2' b'3' b'4']\n",
      "|S1\n"
     ]
    }
   ],
   "source": [
    "c = np.array([1, 2, 3, 4], dtype='S')\n",
    "print(c)\n",
    "print(c.dtype)"
   ]
  },
  {
   "cell_type": "markdown",
   "id": "9ef00b9a",
   "metadata": {},
   "source": [
    "# What if a Value Can Not Be Converted?\n",
    "If a type is given in which elements can't be casted then NumPy will raise a ValueError."
   ]
  },
  {
   "cell_type": "code",
   "execution_count": 45,
   "id": "75e8cc48",
   "metadata": {},
   "outputs": [
    {
     "ename": "ValueError",
     "evalue": "invalid literal for int() with base 10: 'a'",
     "output_type": "error",
     "traceback": [
      "\u001b[1;31m---------------------------------------------------------------------------\u001b[0m",
      "\u001b[1;31mValueError\u001b[0m                                Traceback (most recent call last)",
      "\u001b[1;32m~\\AppData\\Local\\Temp\\ipykernel_9444\\247735657.py\u001b[0m in \u001b[0;36m<module>\u001b[1;34m\u001b[0m\n\u001b[0;32m      1\u001b[0m \u001b[1;31m# A non integer string like 'a' can not be converted to integer (will raise an error):\u001b[0m\u001b[1;33m\u001b[0m\u001b[1;33m\u001b[0m\u001b[0m\n\u001b[1;32m----> 2\u001b[1;33m \u001b[0md\u001b[0m \u001b[1;33m=\u001b[0m \u001b[0mnp\u001b[0m\u001b[1;33m.\u001b[0m\u001b[0marray\u001b[0m\u001b[1;33m(\u001b[0m\u001b[1;33m[\u001b[0m\u001b[1;34m'a'\u001b[0m\u001b[1;33m,\u001b[0m \u001b[1;34m'2'\u001b[0m\u001b[1;33m,\u001b[0m \u001b[1;34m'3'\u001b[0m\u001b[1;33m]\u001b[0m\u001b[1;33m,\u001b[0m \u001b[0mdtype\u001b[0m\u001b[1;33m=\u001b[0m\u001b[1;34m'i'\u001b[0m\u001b[1;33m)\u001b[0m\u001b[1;33m\u001b[0m\u001b[1;33m\u001b[0m\u001b[0m\n\u001b[0m",
      "\u001b[1;31mValueError\u001b[0m: invalid literal for int() with base 10: 'a'"
     ]
    }
   ],
   "source": [
    "# A non integer string like 'a' can not be converted to integer (will raise an error):\n",
    "d = np.array(['a', '2', '3'], dtype='i')"
   ]
  },
  {
   "cell_type": "markdown",
   "id": "74b153ca",
   "metadata": {},
   "source": [
    "# Converting Data Type on Existing Arrays\n",
    "The astype() function creates a copy of the array, and allows you to specify the data type as a parameter."
   ]
  },
  {
   "cell_type": "code",
   "execution_count": 46,
   "id": "14f2c056",
   "metadata": {},
   "outputs": [
    {
     "name": "stdout",
     "output_type": "stream",
     "text": [
      "[1 2 3 4]\n",
      "int32\n"
     ]
    }
   ],
   "source": [
    "e = np.array([1.1, 2.1, 3.1])\n",
    "newe = arr.astype('i')\n",
    "\n",
    "print(newe)\n",
    "print(newe.dtype)"
   ]
  },
  {
   "cell_type": "markdown",
   "id": "3363c897",
   "metadata": {},
   "source": [
    "# NumPy Array Copy vs View\n",
    "The main difference between a copy and a view of an array is that the copy is a new array, and the view is just a view of the original array."
   ]
  },
  {
   "cell_type": "code",
   "execution_count": 49,
   "id": "d8bdc0bc",
   "metadata": {},
   "outputs": [],
   "source": [
    "f = np.array([1, 2, 3, 4, 5])\n",
    "g = f.copy()"
   ]
  },
  {
   "cell_type": "code",
   "execution_count": 50,
   "id": "cce30792",
   "metadata": {},
   "outputs": [
    {
     "name": "stdout",
     "output_type": "stream",
     "text": [
      "[1 2 3 4 5]\n",
      "[1 2 3 4 5]\n"
     ]
    }
   ],
   "source": [
    "print(f)\n",
    "print(g)"
   ]
  },
  {
   "cell_type": "code",
   "execution_count": 51,
   "id": "998e96b3",
   "metadata": {},
   "outputs": [],
   "source": [
    "f[0] = 44"
   ]
  },
  {
   "cell_type": "code",
   "execution_count": 52,
   "id": "a39cb46b",
   "metadata": {},
   "outputs": [
    {
     "name": "stdout",
     "output_type": "stream",
     "text": [
      "[44  2  3  4  5]\n",
      "[1 2 3 4 5]\n"
     ]
    }
   ],
   "source": [
    "print(f)\n",
    "print(g)"
   ]
  },
  {
   "cell_type": "code",
   "execution_count": 55,
   "id": "2249a195",
   "metadata": {},
   "outputs": [],
   "source": [
    "h = np.array([11, 22, 33, 44])\n",
    "i = h.view()"
   ]
  },
  {
   "cell_type": "code",
   "execution_count": 56,
   "id": "fe57d1f8",
   "metadata": {},
   "outputs": [
    {
     "name": "stdout",
     "output_type": "stream",
     "text": [
      "[11 22 33 44]\n",
      "[11 22 33 44]\n"
     ]
    }
   ],
   "source": [
    "print(h)\n",
    "print(i)"
   ]
  },
  {
   "cell_type": "code",
   "execution_count": 57,
   "id": "aaa83d13",
   "metadata": {},
   "outputs": [],
   "source": [
    "h[0] = 111"
   ]
  },
  {
   "cell_type": "code",
   "execution_count": 59,
   "id": "1292d6cb",
   "metadata": {},
   "outputs": [
    {
     "name": "stdout",
     "output_type": "stream",
     "text": [
      "[111  22  33  44]\n",
      "[111  22  33  44]\n"
     ]
    }
   ],
   "source": [
    "print(h)\n",
    "print(i)"
   ]
  },
  {
   "cell_type": "markdown",
   "id": "5726ebe5",
   "metadata": {},
   "source": [
    "# NumPy Array Shape\n",
    "The shape of an array is the number of elements in each dimension."
   ]
  },
  {
   "cell_type": "code",
   "execution_count": 60,
   "id": "43e65a2c",
   "metadata": {},
   "outputs": [
    {
     "name": "stdout",
     "output_type": "stream",
     "text": [
      "(2, 4)\n"
     ]
    }
   ],
   "source": [
    "j = np.array([[1, 2, 3, 4], [5, 6, 7, 8]])\n",
    "\n",
    "print(j.shape)"
   ]
  },
  {
   "cell_type": "markdown",
   "id": "868638bd",
   "metadata": {},
   "source": [
    "# NumPy Array Reshaping\n",
    "Reshaping means changing the shape of an array."
   ]
  },
  {
   "cell_type": "code",
   "execution_count": 6,
   "id": "bb069820",
   "metadata": {},
   "outputs": [],
   "source": [
    "k = np.array([1, 2, 3, 4, 5, 6, 7, 8, 9, 10, 11, 12])\n",
    "newk1 = k.reshape(4, 3)"
   ]
  },
  {
   "cell_type": "code",
   "execution_count": 7,
   "id": "cf836ad0",
   "metadata": {},
   "outputs": [
    {
     "name": "stdout",
     "output_type": "stream",
     "text": [
      "[[ 1  2  3]\n",
      " [ 4  5  6]\n",
      " [ 7  8  9]\n",
      " [10 11 12]]\n"
     ]
    }
   ],
   "source": [
    "print(newk1)"
   ]
  },
  {
   "cell_type": "markdown",
   "id": "9a92980b",
   "metadata": {},
   "source": [
    "Reshape From 1-D to 3-D"
   ]
  },
  {
   "cell_type": "code",
   "execution_count": 8,
   "id": "31f85121",
   "metadata": {},
   "outputs": [],
   "source": [
    "newk2 = k.reshape(2, 3, 2)"
   ]
  },
  {
   "cell_type": "code",
   "execution_count": 9,
   "id": "d32c7a81",
   "metadata": {},
   "outputs": [
    {
     "name": "stdout",
     "output_type": "stream",
     "text": [
      "[[[ 1  2]\n",
      "  [ 3  4]\n",
      "  [ 5  6]]\n",
      "\n",
      " [[ 7  8]\n",
      "  [ 9 10]\n",
      "  [11 12]]]\n"
     ]
    }
   ],
   "source": [
    "print(newk2)"
   ]
  },
  {
   "cell_type": "markdown",
   "id": "b2fa860a",
   "metadata": {},
   "source": [
    "# Can We Reshape Into any Shape?"
   ]
  },
  {
   "cell_type": "code",
   "execution_count": 11,
   "id": "17ac770e",
   "metadata": {},
   "outputs": [
    {
     "ename": "ValueError",
     "evalue": "cannot reshape array of size 8 into shape (3,3)",
     "output_type": "error",
     "traceback": [
      "\u001b[1;31m---------------------------------------------------------------------------\u001b[0m",
      "\u001b[1;31mValueError\u001b[0m                                Traceback (most recent call last)",
      "\u001b[1;32m~\\AppData\\Local\\Temp\\ipykernel_15148\\3546653432.py\u001b[0m in \u001b[0;36m<module>\u001b[1;34m\u001b[0m\n\u001b[0;32m      1\u001b[0m \u001b[0ml\u001b[0m \u001b[1;33m=\u001b[0m \u001b[0mnp\u001b[0m\u001b[1;33m.\u001b[0m\u001b[0marray\u001b[0m\u001b[1;33m(\u001b[0m\u001b[1;33m[\u001b[0m\u001b[1;36m1\u001b[0m\u001b[1;33m,\u001b[0m \u001b[1;36m2\u001b[0m\u001b[1;33m,\u001b[0m \u001b[1;36m3\u001b[0m\u001b[1;33m,\u001b[0m \u001b[1;36m4\u001b[0m\u001b[1;33m,\u001b[0m \u001b[1;36m5\u001b[0m\u001b[1;33m,\u001b[0m \u001b[1;36m6\u001b[0m\u001b[1;33m,\u001b[0m \u001b[1;36m7\u001b[0m\u001b[1;33m,\u001b[0m \u001b[1;36m8\u001b[0m\u001b[1;33m]\u001b[0m\u001b[1;33m)\u001b[0m\u001b[1;33m\u001b[0m\u001b[1;33m\u001b[0m\u001b[0m\n\u001b[1;32m----> 2\u001b[1;33m \u001b[0mnewl\u001b[0m \u001b[1;33m=\u001b[0m \u001b[0ml\u001b[0m\u001b[1;33m.\u001b[0m\u001b[0mreshape\u001b[0m\u001b[1;33m(\u001b[0m\u001b[1;36m3\u001b[0m\u001b[1;33m,\u001b[0m \u001b[1;36m3\u001b[0m\u001b[1;33m)\u001b[0m\u001b[1;33m\u001b[0m\u001b[1;33m\u001b[0m\u001b[0m\n\u001b[0m",
      "\u001b[1;31mValueError\u001b[0m: cannot reshape array of size 8 into shape (3,3)"
     ]
    }
   ],
   "source": [
    "l = np.array([1, 2, 3, 4, 5, 6, 7, 8])\n",
    "newl = l.reshape(3, 3)"
   ]
  },
  {
   "cell_type": "markdown",
   "id": "7bb2bfc7",
   "metadata": {},
   "source": [
    "# Unknown Dimension\n",
    "You are allowed to have one \"unknown\" dimension.\n",
    "\n",
    "Pass -1 as the value, and NumPy will calculate this number for you.\n",
    "\n",
    "Note: We can not pass -1 to more than one dimension."
   ]
  },
  {
   "cell_type": "code",
   "execution_count": 12,
   "id": "e80e9a30",
   "metadata": {},
   "outputs": [],
   "source": [
    "newl = l.reshape(2, 2, -1)"
   ]
  },
  {
   "cell_type": "code",
   "execution_count": 13,
   "id": "39e45953",
   "metadata": {},
   "outputs": [
    {
     "name": "stdout",
     "output_type": "stream",
     "text": [
      "[[[1 2]\n",
      "  [3 4]]\n",
      "\n",
      " [[5 6]\n",
      "  [7 8]]]\n"
     ]
    }
   ],
   "source": [
    "print(newl)"
   ]
  },
  {
   "cell_type": "markdown",
   "id": "1b920559",
   "metadata": {},
   "source": [
    "# Flattening the arrays\n",
    "Flattening array means converting a multidimensional array into a 1D array.\n",
    "\n",
    "We can use reshape(-1) to do this."
   ]
  },
  {
   "cell_type": "code",
   "execution_count": 14,
   "id": "9cbdff6f",
   "metadata": {},
   "outputs": [],
   "source": [
    "m = np.array([[1, 2, 3], [4, 5, 6]])"
   ]
  },
  {
   "cell_type": "code",
   "execution_count": 16,
   "id": "4651eac4",
   "metadata": {},
   "outputs": [
    {
     "name": "stdout",
     "output_type": "stream",
     "text": [
      "[1 2 3 4 5 6]\n"
     ]
    }
   ],
   "source": [
    "newm = m.reshape(-1)\n",
    "print(newm)"
   ]
  },
  {
   "cell_type": "markdown",
   "id": "583428c3",
   "metadata": {},
   "source": [
    "# NumPy Array Iterating\n",
    "Iterating means going through elements one by one."
   ]
  },
  {
   "cell_type": "code",
   "execution_count": 17,
   "id": "0f5c817d",
   "metadata": {},
   "outputs": [
    {
     "name": "stdout",
     "output_type": "stream",
     "text": [
      "1\n",
      "2\n",
      "3\n"
     ]
    }
   ],
   "source": [
    "# Iterate on the elements of the following 1-D array:\n",
    "n = np.array([1, 2, 3])\n",
    "\n",
    "for x in n:\n",
    "    print(x)"
   ]
  },
  {
   "cell_type": "code",
   "execution_count": 19,
   "id": "d583c4d2",
   "metadata": {},
   "outputs": [
    {
     "name": "stdout",
     "output_type": "stream",
     "text": [
      "1\n",
      "2\n",
      "3\n",
      "4\n",
      "5\n",
      "6\n"
     ]
    }
   ],
   "source": [
    "# Iterate on the elements of the following 2-D array:\n",
    "o = np.array([[1, 2, 3], [4, 5, 6]])\n",
    "\n",
    "for x in o:\n",
    "    for y in x:\n",
    "        print(y)"
   ]
  },
  {
   "cell_type": "code",
   "execution_count": 20,
   "id": "14879c31",
   "metadata": {},
   "outputs": [
    {
     "name": "stdout",
     "output_type": "stream",
     "text": [
      "1\n",
      "2\n",
      "3\n",
      "4\n",
      "5\n",
      "6\n",
      "7\n",
      "8\n",
      "9\n",
      "10\n",
      "11\n",
      "12\n"
     ]
    }
   ],
   "source": [
    "# Iterate on the elements of the following 3-D array:\n",
    "p = np.array([[[1, 2, 3], [4, 5, 6]], [[7, 8, 9], [10, 11, 12]]])\n",
    "\n",
    "for x in p:\n",
    "    for y in x:\n",
    "        for z in y:\n",
    "            print(z)"
   ]
  },
  {
   "cell_type": "markdown",
   "id": "19bf7533",
   "metadata": {},
   "source": [
    "# Iterating Arrays Using nditer()"
   ]
  },
  {
   "cell_type": "code",
   "execution_count": 21,
   "id": "d0e21a9a",
   "metadata": {},
   "outputs": [
    {
     "name": "stdout",
     "output_type": "stream",
     "text": [
      "1\n",
      "2\n",
      "3\n",
      "4\n",
      "5\n",
      "6\n",
      "7\n",
      "8\n"
     ]
    }
   ],
   "source": [
    "q = np.array([[[1, 2], [3, 4]], [[5, 6], [7, 8]]])\n",
    "\n",
    "for x in np.nditer(q):\n",
    "    print(x)"
   ]
  },
  {
   "cell_type": "markdown",
   "id": "9d447d9e",
   "metadata": {},
   "source": [
    "# Iterating With Different Step Size"
   ]
  },
  {
   "cell_type": "code",
   "execution_count": 22,
   "id": "de02c390",
   "metadata": {},
   "outputs": [
    {
     "name": "stdout",
     "output_type": "stream",
     "text": [
      "1\n",
      "3\n",
      "5\n",
      "7\n"
     ]
    }
   ],
   "source": [
    "r = np.array([[1, 2, 3, 4], [5, 6, 7, 8]])\n",
    "\n",
    "for x in np.nditer(r[:, ::2]):\n",
    "    print(x)"
   ]
  },
  {
   "cell_type": "markdown",
   "id": "58c78133",
   "metadata": {},
   "source": [
    "# NumPy Joining Array\n",
    "Joining means putting contents of two or more arrays in a single array."
   ]
  },
  {
   "cell_type": "code",
   "execution_count": 25,
   "id": "b0c0ee85",
   "metadata": {},
   "outputs": [],
   "source": [
    "# Join two arrays\n",
    "s1 = np.array([1, 2, 3])\n",
    "s2 = np.array([4, 5, 6])\n",
    "s = np.concatenate((s1, s2))"
   ]
  },
  {
   "cell_type": "code",
   "execution_count": 26,
   "id": "81f9c386",
   "metadata": {},
   "outputs": [
    {
     "name": "stdout",
     "output_type": "stream",
     "text": [
      "[1 2 3 4 5 6]\n"
     ]
    }
   ],
   "source": [
    "print(s)"
   ]
  },
  {
   "cell_type": "code",
   "execution_count": 31,
   "id": "e7b40716",
   "metadata": {},
   "outputs": [],
   "source": [
    "# Join two 2-D arrays along rows (axis=1):\n",
    "t1 = np.array([[1, 2], [3, 4]])\n",
    "t2 = np.array([[5, 6], [7, 8]])\n",
    "\n",
    "t = np.concatenate((t1, t2), axis=1)"
   ]
  },
  {
   "cell_type": "code",
   "execution_count": 32,
   "id": "84c9b193",
   "metadata": {},
   "outputs": [
    {
     "name": "stdout",
     "output_type": "stream",
     "text": [
      "[[1 2 5 6]\n",
      " [3 4 7 8]]\n"
     ]
    }
   ],
   "source": [
    "print(t)"
   ]
  },
  {
   "cell_type": "markdown",
   "id": "d502e9ad",
   "metadata": {},
   "source": [
    "# Joining Arrays Using Stack Functions"
   ]
  },
  {
   "cell_type": "code",
   "execution_count": 33,
   "id": "25aea99f",
   "metadata": {},
   "outputs": [
    {
     "name": "stdout",
     "output_type": "stream",
     "text": [
      "[[1 4]\n",
      " [2 5]\n",
      " [3 6]]\n"
     ]
    }
   ],
   "source": [
    "s = np.stack((s1, s2), axis=1)\n",
    "print(s)"
   ]
  },
  {
   "cell_type": "markdown",
   "id": "50167d8e",
   "metadata": {},
   "source": [
    "NumPy provides a helper function: hstack() to stack along rows."
   ]
  },
  {
   "cell_type": "code",
   "execution_count": 34,
   "id": "3a65d17a",
   "metadata": {},
   "outputs": [
    {
     "name": "stdout",
     "output_type": "stream",
     "text": [
      "[1 2 3 4 5 6]\n"
     ]
    }
   ],
   "source": [
    "s = np.hstack((s1, s2))\n",
    "print(s)"
   ]
  },
  {
   "cell_type": "markdown",
   "id": "8aff827c",
   "metadata": {},
   "source": [
    "NumPy provides a helper function: vstack()  to stack along columns."
   ]
  },
  {
   "cell_type": "code",
   "execution_count": 36,
   "id": "31442bec",
   "metadata": {},
   "outputs": [
    {
     "name": "stdout",
     "output_type": "stream",
     "text": [
      "[[1 2 3]\n",
      " [4 5 6]]\n"
     ]
    }
   ],
   "source": [
    "s = np.vstack((s1, s2))\n",
    "print(s)"
   ]
  },
  {
   "cell_type": "markdown",
   "id": "53210ba3",
   "metadata": {},
   "source": [
    "NumPy provides a helper function: dstack() to stack along height, which is the same as depth."
   ]
  },
  {
   "cell_type": "code",
   "execution_count": 37,
   "id": "10736646",
   "metadata": {},
   "outputs": [
    {
     "name": "stdout",
     "output_type": "stream",
     "text": [
      "[[[1 4]\n",
      "  [2 5]\n",
      "  [3 6]]]\n"
     ]
    }
   ],
   "source": [
    "s = np.dstack((s1, s2))\n",
    "print(s)"
   ]
  },
  {
   "cell_type": "markdown",
   "id": "3ddfad29",
   "metadata": {},
   "source": [
    "# Splitting NumPy Arrays\n",
    "Splitting is reverse operation of Joining."
   ]
  },
  {
   "cell_type": "code",
   "execution_count": 40,
   "id": "1e268579",
   "metadata": {},
   "outputs": [],
   "source": [
    "# Split the array in 3 parts:\n",
    "u = np.array([1, 2, 3, 4, 5, 6])\n",
    "newu1 = np.array_split(u, 3)"
   ]
  },
  {
   "cell_type": "code",
   "execution_count": 41,
   "id": "8dbe5d1a",
   "metadata": {},
   "outputs": [
    {
     "name": "stdout",
     "output_type": "stream",
     "text": [
      "[array([1, 2]), array([3, 4]), array([5, 6])]\n"
     ]
    }
   ],
   "source": [
    "print(newu1)"
   ]
  },
  {
   "cell_type": "code",
   "execution_count": 44,
   "id": "f7ae90de",
   "metadata": {},
   "outputs": [],
   "source": [
    "newu2 = np.array_split(u, 4)"
   ]
  },
  {
   "cell_type": "code",
   "execution_count": 45,
   "id": "9706e0ab",
   "metadata": {},
   "outputs": [
    {
     "name": "stdout",
     "output_type": "stream",
     "text": [
      "[array([1, 2]), array([3, 4]), array([5]), array([6])]\n"
     ]
    }
   ],
   "source": [
    "print(newu2)"
   ]
  },
  {
   "cell_type": "code",
   "execution_count": 46,
   "id": "979f8d88",
   "metadata": {},
   "outputs": [
    {
     "name": "stdout",
     "output_type": "stream",
     "text": [
      "[1 2]\n",
      "[3 4]\n",
      "[5]\n"
     ]
    }
   ],
   "source": [
    "print(newu2[0])\n",
    "print(newu2[1])\n",
    "print(newu2[2])"
   ]
  },
  {
   "cell_type": "markdown",
   "id": "58056419",
   "metadata": {},
   "source": [
    "# Splitting 2-D Arrays"
   ]
  },
  {
   "cell_type": "code",
   "execution_count": 48,
   "id": "715efd19",
   "metadata": {},
   "outputs": [],
   "source": [
    "# Split the 2-D array into three 2-D arrays.\n",
    "v = np.array([[1, 2], [3, 4], [5, 6], [7, 8], [9, 10], [11, 12]])\n",
    "newv = np.array_split(v, 3)"
   ]
  },
  {
   "cell_type": "code",
   "execution_count": 49,
   "id": "86b6f027",
   "metadata": {},
   "outputs": [
    {
     "name": "stdout",
     "output_type": "stream",
     "text": [
      "[array([[1, 2],\n",
      "       [3, 4]]), array([[5, 6],\n",
      "       [7, 8]]), array([[ 9, 10],\n",
      "       [11, 12]])]\n"
     ]
    }
   ],
   "source": [
    "print(newv)"
   ]
  },
  {
   "cell_type": "code",
   "execution_count": 52,
   "id": "50c419aa",
   "metadata": {},
   "outputs": [],
   "source": [
    "# Split the 2-D array into three 2-D arrays.\n",
    "w = np.array([[1, 2, 3], [4, 5, 6], [7, 8, 9], [10, 11, 12], [13, 14, 15], [16, 17, 18]])\n",
    "neww1 = np.array_split(w, 3)"
   ]
  },
  {
   "cell_type": "code",
   "execution_count": 53,
   "id": "0b7b0094",
   "metadata": {},
   "outputs": [
    {
     "name": "stdout",
     "output_type": "stream",
     "text": [
      "[array([[1, 2, 3],\n",
      "       [4, 5, 6]]), array([[ 7,  8,  9],\n",
      "       [10, 11, 12]]), array([[13, 14, 15],\n",
      "       [16, 17, 18]])]\n"
     ]
    }
   ],
   "source": [
    "print(neww1)"
   ]
  },
  {
   "cell_type": "code",
   "execution_count": 54,
   "id": "e44f4b51",
   "metadata": {},
   "outputs": [],
   "source": [
    "# Split the 2-D array into three 2-D arrays along rows.\n",
    "neww2 = np.array_split(w, 3, axis=1)"
   ]
  },
  {
   "cell_type": "code",
   "execution_count": 56,
   "id": "6a6c7ccc",
   "metadata": {},
   "outputs": [
    {
     "name": "stdout",
     "output_type": "stream",
     "text": [
      "[array([[ 1],\n",
      "       [ 4],\n",
      "       [ 7],\n",
      "       [10],\n",
      "       [13],\n",
      "       [16]]), array([[ 2],\n",
      "       [ 5],\n",
      "       [ 8],\n",
      "       [11],\n",
      "       [14],\n",
      "       [17]]), array([[ 3],\n",
      "       [ 6],\n",
      "       [ 9],\n",
      "       [12],\n",
      "       [15],\n",
      "       [18]])]\n"
     ]
    }
   ],
   "source": [
    "print(neww2)"
   ]
  },
  {
   "cell_type": "markdown",
   "id": "589334bf",
   "metadata": {},
   "source": [
    "# NumPy Searching Arrays"
   ]
  },
  {
   "cell_type": "code",
   "execution_count": 2,
   "id": "08d053cb",
   "metadata": {},
   "outputs": [
    {
     "name": "stdout",
     "output_type": "stream",
     "text": [
      "(array([3, 5, 6], dtype=int64),)\n"
     ]
    }
   ],
   "source": [
    "x = np.array([1, 2, 3, 4, 5, 4, 4])\n",
    "y = np.where(x == 4)\n",
    "print(y)"
   ]
  },
  {
   "cell_type": "code",
   "execution_count": 3,
   "id": "f7cf6024",
   "metadata": {},
   "outputs": [
    {
     "name": "stdout",
     "output_type": "stream",
     "text": [
      "(array([1, 3, 5, 7], dtype=int64),)\n"
     ]
    }
   ],
   "source": [
    "z = np.array([1, 2, 3, 4, 5, 6, 7, 8])\n",
    "z1 = np.where(z % 2 == 0)\n",
    "print(z1)"
   ]
  },
  {
   "cell_type": "markdown",
   "id": "6794b476",
   "metadata": {},
   "source": [
    "# NumPy Sorting Arrays"
   ]
  },
  {
   "cell_type": "code",
   "execution_count": 4,
   "id": "5f6fa484",
   "metadata": {},
   "outputs": [
    {
     "name": "stdout",
     "output_type": "stream",
     "text": [
      "[0 1 2 3]\n"
     ]
    }
   ],
   "source": [
    "A = np.array([3, 2, 0, 1])\n",
    "print(np.sort(A))"
   ]
  },
  {
   "cell_type": "code",
   "execution_count": 5,
   "id": "89921d28",
   "metadata": {},
   "outputs": [
    {
     "name": "stdout",
     "output_type": "stream",
     "text": [
      "['apple' 'banana' 'cherry']\n"
     ]
    }
   ],
   "source": [
    "B = np.array(['banana', 'cherry', 'apple'])\n",
    "print(np.sort(B))"
   ]
  },
  {
   "cell_type": "markdown",
   "id": "409c68c0",
   "metadata": {},
   "source": [
    "Sorting a 2-D Array"
   ]
  },
  {
   "cell_type": "code",
   "execution_count": 6,
   "id": "ed8761cc",
   "metadata": {},
   "outputs": [
    {
     "name": "stdout",
     "output_type": "stream",
     "text": [
      "[[2 3 4]\n",
      " [0 1 5]]\n"
     ]
    }
   ],
   "source": [
    "C = np.array([[3, 2, 4], [5, 0, 1]])\n",
    "print(np.sort(C))"
   ]
  },
  {
   "cell_type": "markdown",
   "id": "86de95ce",
   "metadata": {},
   "source": [
    "# Simple Arithmetic"
   ]
  },
  {
   "cell_type": "markdown",
   "id": "3a2a2172",
   "metadata": {},
   "source": [
    "# - Addition\n",
    "The add() function sums the content of two arrays, and return the results in a new array."
   ]
  },
  {
   "cell_type": "code",
   "execution_count": 4,
   "id": "4d836684",
   "metadata": {},
   "outputs": [],
   "source": [
    "D1 = np.array([10, 11, 12, 13, 14, 15])\n",
    "D2 = np.array([20, 21, 22, 23, 24, 25])\n",
    "\n",
    "newD1 = np.add(D1, D2)"
   ]
  },
  {
   "cell_type": "code",
   "execution_count": 5,
   "id": "bca3ee55",
   "metadata": {},
   "outputs": [
    {
     "name": "stdout",
     "output_type": "stream",
     "text": [
      "[30 32 34 36 38 40]\n"
     ]
    }
   ],
   "source": [
    "print(newD1)"
   ]
  },
  {
   "cell_type": "markdown",
   "id": "295a90de",
   "metadata": {},
   "source": [
    "# - Subtraction\n",
    "The subtract() function subtracts the values from one array with the values from another array, and return the results in a new array."
   ]
  },
  {
   "cell_type": "code",
   "execution_count": 6,
   "id": "48b38e81",
   "metadata": {},
   "outputs": [],
   "source": [
    "newD2 = np.subtract(D1, D2)"
   ]
  },
  {
   "cell_type": "code",
   "execution_count": 7,
   "id": "c073825e",
   "metadata": {},
   "outputs": [
    {
     "name": "stdout",
     "output_type": "stream",
     "text": [
      "[-10 -10 -10 -10 -10 -10]\n"
     ]
    }
   ],
   "source": [
    "print(newD2)"
   ]
  },
  {
   "cell_type": "markdown",
   "id": "72d9b79c",
   "metadata": {},
   "source": [
    "# - Multiplication\n",
    "The multiply() function multiplies the values from one array with the values from another array, and return the results in a new array."
   ]
  },
  {
   "cell_type": "code",
   "execution_count": 8,
   "id": "cd93d664",
   "metadata": {},
   "outputs": [],
   "source": [
    "newD3 = np.multiply(D1, D2)"
   ]
  },
  {
   "cell_type": "code",
   "execution_count": 9,
   "id": "08c386ed",
   "metadata": {},
   "outputs": [
    {
     "name": "stdout",
     "output_type": "stream",
     "text": [
      "[200 231 264 299 336 375]\n"
     ]
    }
   ],
   "source": [
    "print(newD3)"
   ]
  },
  {
   "cell_type": "markdown",
   "id": "99dce6ef",
   "metadata": {},
   "source": [
    "# - Division\n",
    "The divide() function divides the values from one array with the values from another array, and return the results in a new array."
   ]
  },
  {
   "cell_type": "code",
   "execution_count": 12,
   "id": "0d7a1b68",
   "metadata": {},
   "outputs": [],
   "source": [
    "E1 = np.array([10, 20, 30, 40, 50, 60])\n",
    "E2 = np.array([3, 5, 10, 8, 2, 33])\n",
    "\n",
    "newE1 = np.divide(E1, E2)"
   ]
  },
  {
   "cell_type": "code",
   "execution_count": 13,
   "id": "93bd33e8",
   "metadata": {},
   "outputs": [
    {
     "name": "stdout",
     "output_type": "stream",
     "text": [
      "[ 3.33333333  4.          3.          5.         25.          1.81818182]\n"
     ]
    }
   ],
   "source": [
    "print(newE1)"
   ]
  },
  {
   "cell_type": "markdown",
   "id": "9f23e2fc",
   "metadata": {},
   "source": [
    "# - Power\n",
    "The power() function rises the values from the first array to the power of the values of the second array, and return the results in a new array."
   ]
  },
  {
   "cell_type": "code",
   "execution_count": 14,
   "id": "390e0cfd",
   "metadata": {},
   "outputs": [],
   "source": [
    "newE2 = np.power(E1, E2)"
   ]
  },
  {
   "cell_type": "code",
   "execution_count": 15,
   "id": "f9e12a54",
   "metadata": {},
   "outputs": [
    {
     "name": "stdout",
     "output_type": "stream",
     "text": [
      "[      1000    3200000  716276736 -520093696       2500          0]\n"
     ]
    }
   ],
   "source": [
    "print(newE2)"
   ]
  },
  {
   "cell_type": "markdown",
   "id": "14a4060d",
   "metadata": {},
   "source": [
    "# - Remainder\n",
    "Both the mod() and the remainder() functions return the remainder of the values in the first array corresponding to the values in the second array, and return the results in a new array."
   ]
  },
  {
   "cell_type": "code",
   "execution_count": 16,
   "id": "f0722b07",
   "metadata": {},
   "outputs": [],
   "source": [
    "newE3 = np.mod(E1, E2)"
   ]
  },
  {
   "cell_type": "code",
   "execution_count": 17,
   "id": "b38ba749",
   "metadata": {},
   "outputs": [
    {
     "name": "stdout",
     "output_type": "stream",
     "text": [
      "[ 1  0  0  0  0 27]\n"
     ]
    }
   ],
   "source": [
    "print(newE3)"
   ]
  },
  {
   "cell_type": "code",
   "execution_count": 19,
   "id": "bf90224f",
   "metadata": {},
   "outputs": [],
   "source": [
    "newE4 = np.remainder(E1, E2)"
   ]
  },
  {
   "cell_type": "code",
   "execution_count": 20,
   "id": "3ffe343d",
   "metadata": {},
   "outputs": [
    {
     "name": "stdout",
     "output_type": "stream",
     "text": [
      "[ 1  0  0  0  0 27]\n"
     ]
    }
   ],
   "source": [
    "print(newE4)"
   ]
  },
  {
   "cell_type": "markdown",
   "id": "75d0ce89",
   "metadata": {},
   "source": [
    "# - Quotient and Mod\n",
    "The divmod() function return both the quotient and the the mod. The return value is two arrays, the first array contains the quotient and second array contains the mod."
   ]
  },
  {
   "cell_type": "code",
   "execution_count": 21,
   "id": "02837e6e",
   "metadata": {},
   "outputs": [],
   "source": [
    "newE5 = np.divmod(E1, E2)"
   ]
  },
  {
   "cell_type": "code",
   "execution_count": 22,
   "id": "61c55ecd",
   "metadata": {},
   "outputs": [
    {
     "name": "stdout",
     "output_type": "stream",
     "text": [
      "(array([ 3,  4,  3,  5, 25,  1], dtype=int32), array([ 1,  0,  0,  0,  0, 27], dtype=int32))\n"
     ]
    }
   ],
   "source": [
    "print(newE5)"
   ]
  },
  {
   "cell_type": "markdown",
   "id": "2b3c9981",
   "metadata": {},
   "source": [
    "# - Absolute Values\n",
    "Both the absolute() and the abs() functions do the same absolute operation element-wise but we should use absolute() to avoid confusion with python's inbuilt math.abs()"
   ]
  },
  {
   "cell_type": "code",
   "execution_count": 23,
   "id": "9805962a",
   "metadata": {},
   "outputs": [],
   "source": [
    "F = np.array([-1, -2, 1, 2, 3, -4])\n",
    "newF = np.absolute(F)"
   ]
  },
  {
   "cell_type": "code",
   "execution_count": 24,
   "id": "2eeaa8bf",
   "metadata": {},
   "outputs": [
    {
     "name": "stdout",
     "output_type": "stream",
     "text": [
      "[1 2 1 2 3 4]\n"
     ]
    }
   ],
   "source": [
    "print(newF)"
   ]
  },
  {
   "cell_type": "markdown",
   "id": "683f9461",
   "metadata": {},
   "source": [
    "# Rounding Decimals"
   ]
  },
  {
   "cell_type": "markdown",
   "id": "42a75d1c",
   "metadata": {},
   "source": [
    "# - Truncation\n",
    "emove the decimals, and return the float number closest to zero. Use the trunc() and fix() functions."
   ]
  },
  {
   "cell_type": "code",
   "execution_count": 27,
   "id": "3ebcf45d",
   "metadata": {},
   "outputs": [],
   "source": [
    "G1 = np.trunc([-3.1666, 3.6667])"
   ]
  },
  {
   "cell_type": "code",
   "execution_count": 28,
   "id": "34e90b61",
   "metadata": {},
   "outputs": [
    {
     "name": "stdout",
     "output_type": "stream",
     "text": [
      "[-3.  3.]\n"
     ]
    }
   ],
   "source": [
    "print(G1)"
   ]
  },
  {
   "cell_type": "code",
   "execution_count": 29,
   "id": "74ae21fc",
   "metadata": {},
   "outputs": [],
   "source": [
    "G2 = np.fix([-3.1666, 3.6667])"
   ]
  },
  {
   "cell_type": "code",
   "execution_count": 30,
   "id": "34e9fd0b",
   "metadata": {},
   "outputs": [
    {
     "name": "stdout",
     "output_type": "stream",
     "text": [
      "[-3.  3.]\n"
     ]
    }
   ],
   "source": [
    "print(G2)"
   ]
  },
  {
   "cell_type": "markdown",
   "id": "20497f38",
   "metadata": {},
   "source": [
    "# - Rounding\n",
    "The around() function increments preceding digit or decimal by 1 if >=5 else do nothing.\n",
    "\n",
    "E.g. round off to 1 decimal point, 3.16666 is 3.2"
   ]
  },
  {
   "cell_type": "code",
   "execution_count": 33,
   "id": "b644bbee",
   "metadata": {},
   "outputs": [],
   "source": [
    "# Round off 3.1666 to 2 decimal places:\n",
    "H = np.around(3.1666, 2)"
   ]
  },
  {
   "cell_type": "code",
   "execution_count": 34,
   "id": "78d69ea4",
   "metadata": {},
   "outputs": [
    {
     "name": "stdout",
     "output_type": "stream",
     "text": [
      "3.17\n"
     ]
    }
   ],
   "source": [
    "print(H)"
   ]
  },
  {
   "cell_type": "markdown",
   "id": "130d8f76",
   "metadata": {},
   "source": [
    "# - Floor\n",
    "The floor() function rounds off decimal to nearest lower integer.\n",
    "\n",
    "E.g. floor of 3.166 is 3."
   ]
  },
  {
   "cell_type": "code",
   "execution_count": 35,
   "id": "fa0ad226",
   "metadata": {},
   "outputs": [],
   "source": [
    "I = np.floor([-3.1666, 3.6667])"
   ]
  },
  {
   "cell_type": "code",
   "execution_count": 36,
   "id": "ff1836b0",
   "metadata": {},
   "outputs": [
    {
     "name": "stdout",
     "output_type": "stream",
     "text": [
      "[-4.  3.]\n"
     ]
    }
   ],
   "source": [
    "print(I)"
   ]
  },
  {
   "cell_type": "markdown",
   "id": "6ea7cb45",
   "metadata": {},
   "source": [
    "# - Ceil\n",
    " The ceil() function rounds off decimal to nearest upper integer.\n",
    "\n",
    "E.g. ceil of 3.166 is 4."
   ]
  },
  {
   "cell_type": "code",
   "execution_count": 37,
   "id": "5819b41b",
   "metadata": {},
   "outputs": [],
   "source": [
    "J = np.ceil([-3.1666, 3.6667])"
   ]
  },
  {
   "cell_type": "code",
   "execution_count": 38,
   "id": "35615f2a",
   "metadata": {},
   "outputs": [
    {
     "name": "stdout",
     "output_type": "stream",
     "text": [
      "[-3.  4.]\n"
     ]
    }
   ],
   "source": [
    "print(J)"
   ]
  },
  {
   "cell_type": "markdown",
   "id": "98c0d403",
   "metadata": {},
   "source": [
    "# NumPy Logs"
   ]
  },
  {
   "cell_type": "markdown",
   "id": "8d6af79d",
   "metadata": {},
   "source": [
    "# - Log at Base 2\n",
    "Use the log2() function to perform log at the base 2."
   ]
  },
  {
   "cell_type": "code",
   "execution_count": 39,
   "id": "99edd4f7",
   "metadata": {},
   "outputs": [
    {
     "name": "stdout",
     "output_type": "stream",
     "text": [
      "[0.         1.         1.5849625  2.         2.32192809 2.5849625\n",
      " 2.80735492 3.         3.169925  ]\n"
     ]
    }
   ],
   "source": [
    "K = np.arange(1, 10)\n",
    "\n",
    "print(np.log2(K))"
   ]
  },
  {
   "cell_type": "markdown",
   "id": "60118292",
   "metadata": {},
   "source": [
    "# - Log at Base 10\n",
    "Use the log10() function to perform log at the base 10."
   ]
  },
  {
   "cell_type": "code",
   "execution_count": 40,
   "id": "1ca213e7",
   "metadata": {},
   "outputs": [
    {
     "name": "stdout",
     "output_type": "stream",
     "text": [
      "[0.         0.30103    0.47712125 0.60205999 0.69897    0.77815125\n",
      " 0.84509804 0.90308999 0.95424251]\n"
     ]
    }
   ],
   "source": [
    "print(np.log10(K))"
   ]
  },
  {
   "cell_type": "markdown",
   "id": "cdad63f1",
   "metadata": {},
   "source": [
    "# - Natural Log, or Log at Base e\n",
    "Use the log() function to perform log at the base e."
   ]
  },
  {
   "cell_type": "code",
   "execution_count": 42,
   "id": "d670612b",
   "metadata": {},
   "outputs": [
    {
     "name": "stdout",
     "output_type": "stream",
     "text": [
      "[0.         0.69314718 1.09861229 1.38629436 1.60943791 1.79175947\n",
      " 1.94591015 2.07944154 2.19722458]\n"
     ]
    }
   ],
   "source": [
    "L = np.arange(1, 10)\n",
    "\n",
    "print(np.log(L))"
   ]
  },
  {
   "cell_type": "markdown",
   "id": "d401b5c6",
   "metadata": {},
   "source": [
    "# - Log at Any Base\n",
    "NumPy does not provide any function to take log at any base, so we can use the frompyfunc() function along with inbuilt function math.log() with two input parameters and one output parameter:"
   ]
  },
  {
   "cell_type": "code",
   "execution_count": 43,
   "id": "ef196d34",
   "metadata": {},
   "outputs": [],
   "source": [
    "from math import log"
   ]
  },
  {
   "cell_type": "code",
   "execution_count": 44,
   "id": "18687507",
   "metadata": {},
   "outputs": [],
   "source": [
    "nplog = np.frompyfunc(log, 2, 1)"
   ]
  },
  {
   "cell_type": "code",
   "execution_count": 45,
   "id": "581dae9f",
   "metadata": {},
   "outputs": [
    {
     "name": "stdout",
     "output_type": "stream",
     "text": [
      "1.7005483074552052\n"
     ]
    }
   ],
   "source": [
    "print(nplog(100, 15))"
   ]
  },
  {
   "cell_type": "markdown",
   "id": "ee86ec5d",
   "metadata": {},
   "source": [
    "# Summations\n",
    "What is the difference between summation and addition?\n",
    "\n",
    "Addition is done between two arguments whereas summation happens over n elements."
   ]
  },
  {
   "cell_type": "code",
   "execution_count": 49,
   "id": "403f0978",
   "metadata": {},
   "outputs": [],
   "source": [
    "M1 = np.array([1, 2, 3])\n",
    "M2 = np.array([1, 2, 3])\n",
    "\n",
    "newM1 = np.add(M1, M2)"
   ]
  },
  {
   "cell_type": "code",
   "execution_count": 50,
   "id": "be7cc52e",
   "metadata": {},
   "outputs": [
    {
     "name": "stdout",
     "output_type": "stream",
     "text": [
      "[2 4 6]\n"
     ]
    }
   ],
   "source": [
    "print(newM1)"
   ]
  },
  {
   "cell_type": "code",
   "execution_count": 51,
   "id": "9d6655c9",
   "metadata": {},
   "outputs": [],
   "source": [
    "newM2 = np.sum([M1, M2])"
   ]
  },
  {
   "cell_type": "code",
   "execution_count": 52,
   "id": "de073211",
   "metadata": {},
   "outputs": [
    {
     "name": "stdout",
     "output_type": "stream",
     "text": [
      "12\n"
     ]
    }
   ],
   "source": [
    "print(newM2)"
   ]
  },
  {
   "cell_type": "markdown",
   "id": "92f2ef70",
   "metadata": {},
   "source": [
    "# Summation Over an Axis\n",
    "If you specify axis=1, NumPy will sum the numbers in each array."
   ]
  },
  {
   "cell_type": "code",
   "execution_count": 53,
   "id": "f1b08a5d",
   "metadata": {},
   "outputs": [],
   "source": [
    "newM3 = np.sum([M1, M2], axis=1)"
   ]
  },
  {
   "cell_type": "code",
   "execution_count": 54,
   "id": "f3633ec3",
   "metadata": {},
   "outputs": [
    {
     "name": "stdout",
     "output_type": "stream",
     "text": [
      "[6 6]\n"
     ]
    }
   ],
   "source": [
    "print(newM3)"
   ]
  },
  {
   "cell_type": "markdown",
   "id": "d19e73f9",
   "metadata": {},
   "source": [
    "# Cummulative Sum\n",
    "Cummulative sum means partially adding the elements in array.\n",
    "\n",
    "E.g. The partial sum of [1, 2, 3, 4] would be [1, 1+2, 1+2+3, 1+2+3+4] = [1, 3, 6, 10]."
   ]
  },
  {
   "cell_type": "code",
   "execution_count": 56,
   "id": "bec6e3f3",
   "metadata": {},
   "outputs": [],
   "source": [
    "N = np.array([1, 2, 3])\n",
    "\n",
    "newN = np.cumsum(N)"
   ]
  },
  {
   "cell_type": "code",
   "execution_count": 57,
   "id": "b2890c1f",
   "metadata": {},
   "outputs": [
    {
     "name": "stdout",
     "output_type": "stream",
     "text": [
      "[1 3 6]\n"
     ]
    }
   ],
   "source": [
    "print(newN)"
   ]
  },
  {
   "cell_type": "markdown",
   "id": "e2d96126",
   "metadata": {},
   "source": [
    "# NumPy Products\n",
    "To find the product of the elements in an array, use the prod() function."
   ]
  },
  {
   "cell_type": "code",
   "execution_count": 60,
   "id": "75f65a9c",
   "metadata": {},
   "outputs": [],
   "source": [
    "# Find the product of the elements of this array:\n",
    "O = np.array([1, 2, 3, 4])\n",
    "\n",
    "P = np.prod(O)"
   ]
  },
  {
   "cell_type": "code",
   "execution_count": 61,
   "id": "f29d1c50",
   "metadata": {},
   "outputs": [
    {
     "name": "stdout",
     "output_type": "stream",
     "text": [
      "24\n"
     ]
    }
   ],
   "source": [
    "print(P)"
   ]
  },
  {
   "cell_type": "code",
   "execution_count": 62,
   "id": "d889a238",
   "metadata": {},
   "outputs": [],
   "source": [
    "# Find the product of the elements of two arrays:\n",
    "Q1 = np.array([1, 2, 3, 4])\n",
    "Q2 = np.array([5, 6, 7, 8])\n",
    "\n",
    "Q = np.prod([Q1, Q2])"
   ]
  },
  {
   "cell_type": "code",
   "execution_count": 63,
   "id": "ccb32dad",
   "metadata": {},
   "outputs": [
    {
     "name": "stdout",
     "output_type": "stream",
     "text": [
      "40320\n"
     ]
    }
   ],
   "source": [
    "print(Q)"
   ]
  },
  {
   "cell_type": "markdown",
   "id": "d04a74b0",
   "metadata": {},
   "source": [
    "# Product Over an Axis\n",
    "If you specify axis=1, NumPy will return the product of each array."
   ]
  },
  {
   "cell_type": "code",
   "execution_count": 66,
   "id": "5726507f",
   "metadata": {},
   "outputs": [],
   "source": [
    "R1 = np.array([1, 2, 3, 4])\n",
    "R2 = np.array([5, 6, 7, 8])\n",
    "\n",
    "newR = np.prod([R1, R2], axis=1)"
   ]
  },
  {
   "cell_type": "code",
   "execution_count": 67,
   "id": "b00acfe8",
   "metadata": {},
   "outputs": [
    {
     "name": "stdout",
     "output_type": "stream",
     "text": [
      "[  24 1680]\n"
     ]
    }
   ],
   "source": [
    "print(newR)"
   ]
  },
  {
   "cell_type": "markdown",
   "id": "f63f6548",
   "metadata": {},
   "source": [
    "# Cummulative Product\n",
    "Cummulative product means taking the product partially.\n",
    "\n",
    "E.g. The partial product of [1, 2, 3, 4] is [1, 1*2, 1*2*3, 1*2*3*4] = [1, 2, 6, 24]"
   ]
  },
  {
   "cell_type": "code",
   "execution_count": 68,
   "id": "31ab570e",
   "metadata": {},
   "outputs": [],
   "source": [
    "S = np.array([5, 6, 7, 8])\n",
    "\n",
    "newS = np.cumprod(S)"
   ]
  },
  {
   "cell_type": "code",
   "execution_count": 69,
   "id": "b6870583",
   "metadata": {},
   "outputs": [
    {
     "name": "stdout",
     "output_type": "stream",
     "text": [
      "[   5   30  210 1680]\n"
     ]
    }
   ],
   "source": [
    "print(newS)"
   ]
  },
  {
   "cell_type": "markdown",
   "id": "cf6d197c",
   "metadata": {},
   "source": [
    "# NumPy Differences\n",
    "\n",
    "A discrete difference means subtracting two successive elements.\n",
    "\n",
    "E.g. for [1, 2, 3, 4], the discrete difference would be [2-1, 3-2, 4-3] = [1, 1, 1]"
   ]
  },
  {
   "cell_type": "code",
   "execution_count": 72,
   "id": "8e3c4209",
   "metadata": {},
   "outputs": [],
   "source": [
    "T = np.array([10, 15, 25, 5])\n",
    "\n",
    "newT1 = np.diff(T)"
   ]
  },
  {
   "cell_type": "code",
   "execution_count": 73,
   "id": "10f50928",
   "metadata": {},
   "outputs": [
    {
     "name": "stdout",
     "output_type": "stream",
     "text": [
      "[  5  10 -20]\n"
     ]
    }
   ],
   "source": [
    "print(newT1)"
   ]
  },
  {
   "cell_type": "markdown",
   "id": "535679fa",
   "metadata": {},
   "source": [
    "We can perform this operation repeatedly by giving parameter n.\n",
    "\n",
    "E.g. for [1, 2, 3, 4], the discrete difference with n = 2 would be [2-1, 3-2, 4-3] = [1, 1, 1] , then, since n=2, we will do it once more, with the new result: [1-1, 1-1] = [0, 0]"
   ]
  },
  {
   "cell_type": "code",
   "execution_count": 80,
   "id": "d157c068",
   "metadata": {},
   "outputs": [],
   "source": [
    "newT2 = np.diff(T, n=2)"
   ]
  },
  {
   "cell_type": "code",
   "execution_count": 81,
   "id": "0a83d425",
   "metadata": {},
   "outputs": [
    {
     "name": "stdout",
     "output_type": "stream",
     "text": [
      "[  5 -30]\n"
     ]
    }
   ],
   "source": [
    "print(newT2)"
   ]
  },
  {
   "cell_type": "code",
   "execution_count": null,
   "id": "2f684039",
   "metadata": {},
   "outputs": [],
   "source": []
  }
 ],
 "metadata": {
  "kernelspec": {
   "display_name": "Python 3 (ipykernel)",
   "language": "python",
   "name": "python3"
  },
  "language_info": {
   "codemirror_mode": {
    "name": "ipython",
    "version": 3
   },
   "file_extension": ".py",
   "mimetype": "text/x-python",
   "name": "python",
   "nbconvert_exporter": "python",
   "pygments_lexer": "ipython3",
   "version": "3.9.13"
  }
 },
 "nbformat": 4,
 "nbformat_minor": 5
}
